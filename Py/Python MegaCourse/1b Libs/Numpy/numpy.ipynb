{
 "cells": [
  {
   "cell_type": "code",
   "execution_count": 1,
   "metadata": {},
   "outputs": [],
   "source": [
    "import numpy"
   ]
  },
  {
   "cell_type": "code",
   "execution_count": 2,
   "metadata": {},
   "outputs": [
    {
     "data": {
      "text/plain": [
       "array([ 0,  1,  2,  3,  4,  5,  6,  7,  8,  9, 10, 11, 12, 13, 14, 15, 16,\n",
       "       17, 18, 19, 20, 21, 22, 23, 24, 25, 26])"
      ]
     },
     "execution_count": 2,
     "metadata": {},
     "output_type": "execute_result"
    }
   ],
   "source": [
    "n=numpy.arange(27)\n",
    "n"
   ]
  },
  {
   "cell_type": "code",
   "execution_count": 3,
   "metadata": {},
   "outputs": [
    {
     "data": {
      "text/plain": [
       "array([[ 0,  1,  2,  3,  4,  5,  6,  7,  8],\n",
       "       [ 9, 10, 11, 12, 13, 14, 15, 16, 17],\n",
       "       [18, 19, 20, 21, 22, 23, 24, 25, 26]])"
      ]
     },
     "execution_count": 3,
     "metadata": {},
     "output_type": "execute_result"
    }
   ],
   "source": [
    "n.reshape(3,9)"
   ]
  },
  {
   "cell_type": "code",
   "execution_count": 4,
   "metadata": {},
   "outputs": [
    {
     "data": {
      "text/plain": [
       "array([[[ 0,  1,  2],\n",
       "        [ 3,  4,  5],\n",
       "        [ 6,  7,  8]],\n",
       "\n",
       "       [[ 9, 10, 11],\n",
       "        [12, 13, 14],\n",
       "        [15, 16, 17]],\n",
       "\n",
       "       [[18, 19, 20],\n",
       "        [21, 22, 23],\n",
       "        [24, 25, 26]]])"
      ]
     },
     "execution_count": 4,
     "metadata": {},
     "output_type": "execute_result"
    }
   ],
   "source": [
    "n.reshape(3,3,3)"
   ]
  },
  {
   "cell_type": "code",
   "execution_count": 5,
   "metadata": {},
   "outputs": [],
   "source": [
    "import cv2"
   ]
  },
  {
   "cell_type": "code",
   "execution_count": 8,
   "metadata": {},
   "outputs": [],
   "source": [
    "smimg=cv2.imread(\"smallgray.png\", 0)"
   ]
  },
  {
   "cell_type": "code",
   "execution_count": 9,
   "metadata": {},
   "outputs": [
    {
     "data": {
      "text/plain": [
       "array([[187, 158, 104, 121, 143],\n",
       "       [198, 125, 255, 255, 147],\n",
       "       [209, 134, 255,  97, 182]], dtype=uint8)"
      ]
     },
     "execution_count": 9,
     "metadata": {},
     "output_type": "execute_result"
    }
   ],
   "source": [
    "smimg"
   ]
  },
  {
   "cell_type": "code",
   "execution_count": 10,
   "metadata": {},
   "outputs": [],
   "source": [
    "smbgr=cv2.imread(\"smallgray.png\", 1)"
   ]
  },
  {
   "cell_type": "code",
   "execution_count": 11,
   "metadata": {},
   "outputs": [
    {
     "data": {
      "text/plain": [
       "array([[[187, 187, 187],\n",
       "        [158, 158, 158],\n",
       "        [104, 104, 104],\n",
       "        [121, 121, 121],\n",
       "        [143, 143, 143]],\n",
       "\n",
       "       [[198, 198, 198],\n",
       "        [125, 125, 125],\n",
       "        [255, 255, 255],\n",
       "        [255, 255, 255],\n",
       "        [147, 147, 147]],\n",
       "\n",
       "       [[209, 209, 209],\n",
       "        [134, 134, 134],\n",
       "        [255, 255, 255],\n",
       "        [ 97,  97,  97],\n",
       "        [182, 182, 182]]], dtype=uint8)"
      ]
     },
     "execution_count": 11,
     "metadata": {},
     "output_type": "execute_result"
    }
   ],
   "source": [
    "smbgr"
   ]
  },
  {
   "cell_type": "code",
   "execution_count": 12,
   "metadata": {},
   "outputs": [
    {
     "data": {
      "text/plain": [
       "True"
      ]
     },
     "execution_count": 12,
     "metadata": {},
     "output_type": "execute_result"
    }
   ],
   "source": [
    "cv2.imwrite(\"newimg.png\",smbgr)"
   ]
  },
  {
   "cell_type": "markdown",
   "metadata": {},
   "source": [
    "smimg"
   ]
  },
  {
   "cell_type": "code",
   "execution_count": 15,
   "metadata": {},
   "outputs": [
    {
     "data": {
      "text/plain": [
       "array([[104, 121],\n",
       "       [255, 255]], dtype=uint8)"
      ]
     },
     "execution_count": 15,
     "metadata": {},
     "output_type": "execute_result"
    }
   ],
   "source": [
    "smimg[0:2,2:4]"
   ]
  },
  {
   "cell_type": "code",
   "execution_count": 16,
   "metadata": {},
   "outputs": [
    {
     "name": "stdout",
     "output_type": "stream",
     "text": [
      "[187 158 104 121 143]\n",
      "[198 125 255 255 147]\n",
      "[209 134 255  97 182]\n"
     ]
    }
   ],
   "source": [
    "for i in smimg:\n",
    "    print(i)"
   ]
  },
  {
   "cell_type": "code",
   "execution_count": 18,
   "metadata": {},
   "outputs": [
    {
     "name": "stdout",
     "output_type": "stream",
     "text": [
      "[[187 187 187]\n",
      " [158 158 158]\n",
      " [104 104 104]\n",
      " [121 121 121]\n",
      " [143 143 143]]\n",
      "[[198 198 198]\n",
      " [125 125 125]\n",
      " [255 255 255]\n",
      " [255 255 255]\n",
      " [147 147 147]]\n",
      "[[209 209 209]\n",
      " [134 134 134]\n",
      " [255 255 255]\n",
      " [ 97  97  97]\n",
      " [182 182 182]]\n"
     ]
    }
   ],
   "source": [
    "for i in smbgr:\n",
    "    print(i)"
   ]
  },
  {
   "cell_type": "code",
   "execution_count": 20,
   "metadata": {},
   "outputs": [
    {
     "name": "stdout",
     "output_type": "stream",
     "text": [
      "[[187 198 209]\n",
      " [158 125 134]\n",
      " [104 255 255]\n",
      " [121 255  97]\n",
      " [143 147 182]]\n",
      "[[187 198 209]\n",
      " [158 125 134]\n",
      " [104 255 255]\n",
      " [121 255  97]\n",
      " [143 147 182]]\n",
      "[[187 198 209]\n",
      " [158 125 134]\n",
      " [104 255 255]\n",
      " [121 255  97]\n",
      " [143 147 182]]\n"
     ]
    }
   ],
   "source": [
    "for i in smbgr.T:\n",
    "    print(i)"
   ]
  },
  {
   "cell_type": "code",
   "execution_count": 21,
   "metadata": {},
   "outputs": [
    {
     "data": {
      "text/plain": [
       "True"
      ]
     },
     "execution_count": 21,
     "metadata": {},
     "output_type": "execute_result"
    }
   ],
   "source": [
    "smrando = smbgr.T\n",
    "cv2.imwrite(\"transposed.png\",smrando)"
   ]
  },
  {
   "cell_type": "code",
   "execution_count": 23,
   "metadata": {},
   "outputs": [
    {
     "name": "stdout",
     "output_type": "stream",
     "text": [
      "187\n",
      "158\n",
      "104\n",
      "121\n",
      "143\n",
      "198\n",
      "125\n",
      "255\n",
      "255\n",
      "147\n",
      "209\n",
      "134\n",
      "255\n",
      "97\n",
      "182\n"
     ]
    }
   ],
   "source": [
    "for i in smimg.flat:\n",
    "    print(i)"
   ]
  },
  {
   "cell_type": "code",
   "execution_count": 24,
   "metadata": {},
   "outputs": [],
   "source": [
    "nimg=numpy.hstack((smimg,smimg))"
   ]
  },
  {
   "cell_type": "code",
   "execution_count": 25,
   "metadata": {},
   "outputs": [
    {
     "data": {
      "text/plain": [
       "array([[187, 158, 104, 121, 143, 187, 158, 104, 121, 143],\n",
       "       [198, 125, 255, 255, 147, 198, 125, 255, 255, 147],\n",
       "       [209, 134, 255,  97, 182, 209, 134, 255,  97, 182]], dtype=uint8)"
      ]
     },
     "execution_count": 25,
     "metadata": {},
     "output_type": "execute_result"
    }
   ],
   "source": [
    "nimg"
   ]
  },
  {
   "cell_type": "code",
   "execution_count": 32,
   "metadata": {},
   "outputs": [],
   "source": [
    "nimg=numpy.vstack(smbgr)"
   ]
  },
  {
   "cell_type": "code",
   "execution_count": 33,
   "metadata": {},
   "outputs": [
    {
     "data": {
      "text/plain": [
       "array([[187, 187, 187, 187, 187, 187, 187, 187, 187],\n",
       "       [158, 158, 158, 158, 158, 158, 158, 158, 158],\n",
       "       [104, 104, 104, 104, 104, 104, 104, 104, 104],\n",
       "       [121, 121, 121, 121, 121, 121, 121, 121, 121],\n",
       "       [143, 143, 143, 143, 143, 143, 143, 143, 143],\n",
       "       [198, 198, 198, 198, 198, 198, 198, 198, 198],\n",
       "       [125, 125, 125, 125, 125, 125, 125, 125, 125],\n",
       "       [255, 255, 255, 255, 255, 255, 255, 255, 255],\n",
       "       [255, 255, 255, 255, 255, 255, 255, 255, 255],\n",
       "       [147, 147, 147, 147, 147, 147, 147, 147, 147],\n",
       "       [209, 209, 209, 209, 209, 209, 209, 209, 209],\n",
       "       [134, 134, 134, 134, 134, 134, 134, 134, 134],\n",
       "       [255, 255, 255, 255, 255, 255, 255, 255, 255],\n",
       "       [ 97,  97,  97,  97,  97,  97,  97,  97,  97],\n",
       "       [182, 182, 182, 182, 182, 182, 182, 182, 182]], dtype=uint8)"
      ]
     },
     "execution_count": 33,
     "metadata": {},
     "output_type": "execute_result"
    }
   ],
   "source": [
    "neimg=numpy.hstack((nimg,nimg,nimg))\n",
    "neimg"
   ]
  },
  {
   "cell_type": "code",
   "execution_count": 34,
   "metadata": {},
   "outputs": [
    {
     "data": {
      "text/plain": [
       "array([[187, 158, 104, 121, 143, 198, 125, 255, 255, 147, 209, 134, 255,\n",
       "         97, 182],\n",
       "       [187, 158, 104, 121, 143, 198, 125, 255, 255, 147, 209, 134, 255,\n",
       "         97, 182],\n",
       "       [187, 158, 104, 121, 143, 198, 125, 255, 255, 147, 209, 134, 255,\n",
       "         97, 182],\n",
       "       [187, 158, 104, 121, 143, 198, 125, 255, 255, 147, 209, 134, 255,\n",
       "         97, 182],\n",
       "       [187, 158, 104, 121, 143, 198, 125, 255, 255, 147, 209, 134, 255,\n",
       "         97, 182],\n",
       "       [187, 158, 104, 121, 143, 198, 125, 255, 255, 147, 209, 134, 255,\n",
       "         97, 182],\n",
       "       [187, 158, 104, 121, 143, 198, 125, 255, 255, 147, 209, 134, 255,\n",
       "         97, 182],\n",
       "       [187, 158, 104, 121, 143, 198, 125, 255, 255, 147, 209, 134, 255,\n",
       "         97, 182],\n",
       "       [187, 158, 104, 121, 143, 198, 125, 255, 255, 147, 209, 134, 255,\n",
       "         97, 182]], dtype=uint8)"
      ]
     },
     "execution_count": 34,
     "metadata": {},
     "output_type": "execute_result"
    }
   ],
   "source": [
    "newimg = neimg.T\n",
    "newimg"
   ]
  },
  {
   "cell_type": "code",
   "execution_count": 35,
   "metadata": {},
   "outputs": [
    {
     "data": {
      "text/plain": [
       "True"
      ]
     },
     "execution_count": 35,
     "metadata": {},
     "output_type": "execute_result"
    }
   ],
   "source": [
    "cv2.imwrite(\"itsgrowing.png\",newimg)"
   ]
  },
  {
   "cell_type": "code",
   "execution_count": 42,
   "metadata": {},
   "outputs": [],
   "source": [
    "list=numpy.hsplit(newimg,3)"
   ]
  },
  {
   "cell_type": "code",
   "execution_count": 43,
   "metadata": {},
   "outputs": [
    {
     "data": {
      "text/plain": [
       "[array([[187, 158, 104, 121, 143],\n",
       "        [187, 158, 104, 121, 143],\n",
       "        [187, 158, 104, 121, 143],\n",
       "        [187, 158, 104, 121, 143],\n",
       "        [187, 158, 104, 121, 143],\n",
       "        [187, 158, 104, 121, 143],\n",
       "        [187, 158, 104, 121, 143],\n",
       "        [187, 158, 104, 121, 143],\n",
       "        [187, 158, 104, 121, 143]], dtype=uint8),\n",
       " array([[198, 125, 255, 255, 147],\n",
       "        [198, 125, 255, 255, 147],\n",
       "        [198, 125, 255, 255, 147],\n",
       "        [198, 125, 255, 255, 147],\n",
       "        [198, 125, 255, 255, 147],\n",
       "        [198, 125, 255, 255, 147],\n",
       "        [198, 125, 255, 255, 147],\n",
       "        [198, 125, 255, 255, 147],\n",
       "        [198, 125, 255, 255, 147]], dtype=uint8),\n",
       " array([[209, 134, 255,  97, 182],\n",
       "        [209, 134, 255,  97, 182],\n",
       "        [209, 134, 255,  97, 182],\n",
       "        [209, 134, 255,  97, 182],\n",
       "        [209, 134, 255,  97, 182],\n",
       "        [209, 134, 255,  97, 182],\n",
       "        [209, 134, 255,  97, 182],\n",
       "        [209, 134, 255,  97, 182],\n",
       "        [209, 134, 255,  97, 182]], dtype=uint8)]"
      ]
     },
     "execution_count": 43,
     "metadata": {},
     "output_type": "execute_result"
    }
   ],
   "source": [
    "list"
   ]
  },
  {
   "cell_type": "code",
   "execution_count": 46,
   "metadata": {},
   "outputs": [],
   "source": [
    "nmpimg = numpy.asarray(list)"
   ]
  },
  {
   "cell_type": "markdown",
   "metadata": {},
   "source": [
    "nmpimg"
   ]
  },
  {
   "cell_type": "code",
   "execution_count": 47,
   "metadata": {},
   "outputs": [
    {
     "data": {
      "text/plain": [
       "array([[[187, 158, 104, 121, 143],\n",
       "        [187, 158, 104, 121, 143],\n",
       "        [187, 158, 104, 121, 143],\n",
       "        [187, 158, 104, 121, 143],\n",
       "        [187, 158, 104, 121, 143],\n",
       "        [187, 158, 104, 121, 143],\n",
       "        [187, 158, 104, 121, 143],\n",
       "        [187, 158, 104, 121, 143],\n",
       "        [187, 158, 104, 121, 143]],\n",
       "\n",
       "       [[198, 125, 255, 255, 147],\n",
       "        [198, 125, 255, 255, 147],\n",
       "        [198, 125, 255, 255, 147],\n",
       "        [198, 125, 255, 255, 147],\n",
       "        [198, 125, 255, 255, 147],\n",
       "        [198, 125, 255, 255, 147],\n",
       "        [198, 125, 255, 255, 147],\n",
       "        [198, 125, 255, 255, 147],\n",
       "        [198, 125, 255, 255, 147]],\n",
       "\n",
       "       [[209, 134, 255,  97, 182],\n",
       "        [209, 134, 255,  97, 182],\n",
       "        [209, 134, 255,  97, 182],\n",
       "        [209, 134, 255,  97, 182],\n",
       "        [209, 134, 255,  97, 182],\n",
       "        [209, 134, 255,  97, 182],\n",
       "        [209, 134, 255,  97, 182],\n",
       "        [209, 134, 255,  97, 182],\n",
       "        [209, 134, 255,  97, 182]]], dtype=uint8)"
      ]
     },
     "execution_count": 47,
     "metadata": {},
     "output_type": "execute_result"
    }
   ],
   "source": [
    "nmpimg"
   ]
  },
  {
   "cell_type": "code",
   "execution_count": 53,
   "metadata": {},
   "outputs": [
    {
     "data": {
      "text/plain": [
       "array([[[187, 158, 104, 121, 143],\n",
       "        [187, 158, 104, 121, 143],\n",
       "        [187, 158, 104, 121, 143],\n",
       "        [187, 158, 104, 121, 143],\n",
       "        [187, 158, 104, 121, 143],\n",
       "        [187, 158, 104, 121, 143],\n",
       "        [187, 158, 104, 121, 143],\n",
       "        [187, 158, 104, 121, 143],\n",
       "        [187, 158, 104, 121, 143]],\n",
       "\n",
       "       [[198, 125, 255, 255, 147],\n",
       "        [198, 125, 255, 255, 147],\n",
       "        [198, 125, 255, 255, 147],\n",
       "        [198, 125, 255, 255, 147],\n",
       "        [198, 125, 255, 255, 147],\n",
       "        [198, 125, 255, 255, 147],\n",
       "        [198, 125, 255, 255, 147],\n",
       "        [198, 125, 255, 255, 147],\n",
       "        [198, 125, 255, 255, 147]],\n",
       "\n",
       "       [[209, 134, 255,  97, 182],\n",
       "        [209, 134, 255,  97, 182],\n",
       "        [209, 134, 255,  97, 182],\n",
       "        [209, 134, 255,  97, 182],\n",
       "        [209, 134, 255,  97, 182],\n",
       "        [209, 134, 255,  97, 182],\n",
       "        [209, 134, 255,  97, 182],\n",
       "        [209, 134, 255,  97, 182],\n",
       "        [209, 134, 255,  97, 182]]], dtype=uint8)"
      ]
     },
     "execution_count": 53,
     "metadata": {},
     "output_type": "execute_result"
    }
   ],
   "source": [
    "nmpimg = nmpimg.T\n",
    "nmpimg"
   ]
  },
  {
   "cell_type": "code",
   "execution_count": 58,
   "metadata": {},
   "outputs": [],
   "source": [
    "nmpimg = nmpimg.T"
   ]
  },
  {
   "cell_type": "code",
   "execution_count": 59,
   "metadata": {},
   "outputs": [
    {
     "data": {
      "text/plain": [
       "array([[[187, 198, 209],\n",
       "        [187, 198, 209],\n",
       "        [187, 198, 209],\n",
       "        [187, 198, 209],\n",
       "        [187, 198, 209],\n",
       "        [187, 198, 209],\n",
       "        [187, 198, 209],\n",
       "        [187, 198, 209],\n",
       "        [187, 198, 209]],\n",
       "\n",
       "       [[158, 125, 134],\n",
       "        [158, 125, 134],\n",
       "        [158, 125, 134],\n",
       "        [158, 125, 134],\n",
       "        [158, 125, 134],\n",
       "        [158, 125, 134],\n",
       "        [158, 125, 134],\n",
       "        [158, 125, 134],\n",
       "        [158, 125, 134]],\n",
       "\n",
       "       [[104, 255, 255],\n",
       "        [104, 255, 255],\n",
       "        [104, 255, 255],\n",
       "        [104, 255, 255],\n",
       "        [104, 255, 255],\n",
       "        [104, 255, 255],\n",
       "        [104, 255, 255],\n",
       "        [104, 255, 255],\n",
       "        [104, 255, 255]],\n",
       "\n",
       "       [[121, 255,  97],\n",
       "        [121, 255,  97],\n",
       "        [121, 255,  97],\n",
       "        [121, 255,  97],\n",
       "        [121, 255,  97],\n",
       "        [121, 255,  97],\n",
       "        [121, 255,  97],\n",
       "        [121, 255,  97],\n",
       "        [121, 255,  97]],\n",
       "\n",
       "       [[143, 147, 182],\n",
       "        [143, 147, 182],\n",
       "        [143, 147, 182],\n",
       "        [143, 147, 182],\n",
       "        [143, 147, 182],\n",
       "        [143, 147, 182],\n",
       "        [143, 147, 182],\n",
       "        [143, 147, 182],\n",
       "        [143, 147, 182]]], dtype=uint8)"
      ]
     },
     "execution_count": 59,
     "metadata": {},
     "output_type": "execute_result"
    }
   ],
   "source": [
    "nmpimg"
   ]
  },
  {
   "cell_type": "code",
   "execution_count": 60,
   "metadata": {},
   "outputs": [
    {
     "data": {
      "text/plain": [
       "True"
      ]
     },
     "execution_count": 60,
     "metadata": {},
     "output_type": "execute_result"
    }
   ],
   "source": [
    "cv2.imwrite(\"itsstillgrowing.png\",nmpimg)"
   ]
  },
  {
   "cell_type": "code",
   "execution_count": null,
   "metadata": {},
   "outputs": [],
   "source": []
  }
 ],
 "metadata": {
  "kernelspec": {
   "display_name": "Python 3",
   "language": "python",
   "name": "python3"
  },
  "language_info": {
   "codemirror_mode": {
    "name": "ipython",
    "version": 3
   },
   "file_extension": ".py",
   "mimetype": "text/x-python",
   "name": "python",
   "nbconvert_exporter": "python",
   "pygments_lexer": "ipython3",
   "version": "3.7.5"
  }
 },
 "nbformat": 4,
 "nbformat_minor": 2
}
